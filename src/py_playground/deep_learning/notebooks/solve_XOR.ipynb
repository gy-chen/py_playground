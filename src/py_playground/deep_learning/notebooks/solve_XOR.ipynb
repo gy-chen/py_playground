{
 "cells": [
  {
   "cell_type": "markdown",
   "metadata": {},
   "source": [
    "### Using TensorFlow\n",
    "Use tensorflow to train model that can be XOR function."
   ]
  },
  {
   "cell_type": "code",
   "execution_count": 1,
   "metadata": {},
   "outputs": [],
   "source": [
    "from __future__ import absolute_import\n",
    "from __future__ import division\n",
    "from __future__ import print_function\n",
    "\n",
    "import numpy as np\n",
    "import tensorflow as tf"
   ]
  },
  {
   "cell_type": "markdown",
   "metadata": {},
   "source": [
    "Start by training a linear model."
   ]
  },
  {
   "cell_type": "code",
   "execution_count": 2,
   "metadata": {},
   "outputs": [],
   "source": [
    "x = np.array([\n",
    "    [0, 0],\n",
    "    [1, 0],\n",
    "    [0, 1],\n",
    "    [1, 1]])\n",
    "y = tf.constant([[0], [1], [1], [0]], dtype=tf.float32)"
   ]
  },
  {
   "cell_type": "code",
   "execution_count": 3,
   "metadata": {},
   "outputs": [],
   "source": [
    "# first, try linear model\n",
    "train_input = tf.placeholder(tf.float32, shape=[None, 2])\n",
    "linear_layer = tf.layers.Dense(units=3)\n",
    "y_pred_layer = tf.layers.Dense(units=1)\n",
    "y_pred = y_pred_layer(linear_layer(train_input))\n",
    "loss = tf.losses.mean_squared_error(labels=y, predictions=y_pred)\n",
    "\n",
    "optimizer = tf.train.GradientDescentOptimizer(0.1)\n",
    "train = optimizer.minimize(loss)"
   ]
  },
  {
   "cell_type": "code",
   "execution_count": 4,
   "metadata": {},
   "outputs": [
    {
     "name": "stdout",
     "output_type": "stream",
     "text": [
      "loss before training: 0.40463442\n",
      "loss after training: 0.24999999\n",
      "[array([[ 0.35363066, -0.30100474,  0.34770012],\n",
      "       [ 0.8929846 , -0.46051615,  0.835275  ]], dtype=float32), array([-0.15680753,  0.00590947,  0.20830615], dtype=float32)]\n",
      "[array([[-0.5215136 ],\n",
      "       [ 0.08631522],\n",
      "       [ 0.60513335]], dtype=float32), array([0.29165968], dtype=float32)]\n",
      "[[0.5]]\n",
      "[[0.5000005]]\n",
      "[[0.49999958]]\n",
      "[[0.5]]\n"
     ]
    }
   ],
   "source": [
    "with tf.Session() as sess:\n",
    "    init = tf.global_variables_initializer()\n",
    "    sess.run(init)\n",
    "    print('loss before training:', sess.run(loss, feed_dict={train_input: x}))\n",
    "    for _ in range(1000):\n",
    "        sess.run(train, feed_dict={train_input: x})\n",
    "    print('loss after training:', sess.run(loss, feed_dict={train_input: x}))\n",
    "    \n",
    "    print(sess.run(linear_layer.variables))\n",
    "    print(sess.run(y_pred_layer.variables))\n",
    "    print(sess.run(y_pred, feed_dict={train_input: [[0, 0]] }))\n",
    "    print(sess.run(y_pred, feed_dict={train_input: [[1, 0]] }))\n",
    "    print(sess.run(y_pred, feed_dict={train_input: [[0, 1]] }))\n",
    "    print(sess.run(y_pred, feed_dict={train_input: [[1, 1]] }))\n",
    "    "
   ]
  },
  {
   "cell_type": "markdown",
   "metadata": {},
   "source": [
    "Seems linear model is not doing well on XOR function. Let's try non-linear model"
   ]
  },
  {
   "cell_type": "code",
   "execution_count": 5,
   "metadata": {},
   "outputs": [],
   "source": [
    "train_input = tf.placeholder(tf.float32, shape=[None, 2])\n",
    "nonlinear_layer = tf.layers.Dense(units=3, activation=tf.nn.relu)\n",
    "y_pred_layer = tf.layers.Dense(units=1)\n",
    "y_pred = y_pred_layer(nonlinear_layer(train_input))\n",
    "loss = tf.losses.mean_squared_error(labels=y, predictions=y_pred)\n",
    "\n",
    "optimizer = tf.train.GradientDescentOptimizer(.1)\n",
    "train = optimizer.minimize(loss)"
   ]
  },
  {
   "cell_type": "code",
   "execution_count": 6,
   "metadata": {},
   "outputs": [
    {
     "name": "stdout",
     "output_type": "stream",
     "text": [
      "loss before training: 0.31068784\n",
      "loss after training: 2.6113644e-13\n",
      "[array([[ 0.56808555, -0.85358477,  1.3289894 ],\n",
      "       [ 0.78423387,  0.8535847 ,  0.15173188]], dtype=float32), array([-5.6808555e-01, -1.9132246e-08,  2.0208891e-08], dtype=float32)]\n",
      "[array([[-1.4207109],\n",
      "       [ 1.3975329],\n",
      "       [ 0.7524505]], dtype=float32), array([5.6546435e-07], dtype=float32)]\n",
      "[[5.8067053e-07]]\n",
      "[[0.9999993]]\n",
      "[[0.9999997]]\n",
      "[[3.2704577e-07]]\n"
     ]
    }
   ],
   "source": [
    "with tf.Session() as sess:\n",
    "    init = tf.global_variables_initializer()\n",
    "    sess.run(init)\n",
    "    print('loss before training:', sess.run(loss, feed_dict={train_input: x}))\n",
    "    for _ in range(1000):\n",
    "        sess.run(train, feed_dict={train_input: x})\n",
    "    print('loss after training:', sess.run(loss, feed_dict={train_input: x}))\n",
    "    \n",
    "    print(sess.run(nonlinear_layer.variables))\n",
    "    print(sess.run(y_pred_layer.variables))\n",
    "    print(sess.run(y_pred, feed_dict={train_input: [[0, 0]] }))\n",
    "    print(sess.run(y_pred, feed_dict={train_input: [[1, 0]] }))\n",
    "    print(sess.run(y_pred, feed_dict={train_input: [[0, 1]] }))\n",
    "    print(sess.run(y_pred, feed_dict={train_input: [[1, 1]] }))\n",
    "    "
   ]
  },
  {
   "cell_type": "code",
   "execution_count": null,
   "metadata": {},
   "outputs": [],
   "source": []
  }
 ],
 "metadata": {
  "kernelspec": {
   "display_name": "Python 2",
   "language": "python",
   "name": "python2"
  },
  "language_info": {
   "codemirror_mode": {
    "name": "ipython",
    "version": 2
   },
   "file_extension": ".py",
   "mimetype": "text/x-python",
   "name": "python",
   "nbconvert_exporter": "python",
   "pygments_lexer": "ipython2",
   "version": "2.7.12"
  }
 },
 "nbformat": 4,
 "nbformat_minor": 2
}
